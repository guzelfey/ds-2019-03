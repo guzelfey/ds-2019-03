{
 "cells": [
  {
   "cell_type": "markdown",
   "metadata": {},
   "source": [
    "## Дерево решений"
   ]
  },
  {
   "cell_type": "markdown",
   "metadata": {},
   "source": [
    "Задание\n",
    "1. Построить геометрическую интерпретацию критерия Джини()\n",
    "2. Применить дерево решений из sklearn для задачи Titanic на kaggle (заполнив пропуски).  \n",
    "Применить кросс-валидацию для подбора параметров и выбрать лучшие(например с помощью **GridSearchCV** из sklearn).  \n",
    "Написать отчет о результатах."
   ]
  },
  {
   "cell_type": "code",
   "execution_count": 76,
   "metadata": {},
   "outputs": [],
   "source": [
    "import warnings\n",
    "warnings.filterwarnings(\"ignore\")\n",
    "\n",
    "import matplotlib.pyplot as plt\n",
    "import numpy as np\n",
    "import pandas as pd\n",
    "\n",
    "from scipy import optimize\n",
    "from sklearn.metrics import accuracy_score\n",
    "from sklearn.pipeline import Pipeline\n",
    "from sklearn.preprocessing import StandardScaler\n",
    "from sklearn.model_selection import GridSearchCV\n",
    "from sklearn.impute import SimpleImputer\n",
    "from sklearn.tree import DecisionTreeClassifier\n",
    "\n",
    "import random\n",
    "\n",
    "%matplotlib inline"
   ]
  },
  {
   "cell_type": "code",
   "execution_count": 27,
   "metadata": {},
   "outputs": [
    {
     "data": {
      "text/html": [
       "<div>\n",
       "<style scoped>\n",
       "    .dataframe tbody tr th:only-of-type {\n",
       "        vertical-align: middle;\n",
       "    }\n",
       "\n",
       "    .dataframe tbody tr th {\n",
       "        vertical-align: top;\n",
       "    }\n",
       "\n",
       "    .dataframe thead th {\n",
       "        text-align: right;\n",
       "    }\n",
       "</style>\n",
       "<table border=\"1\" class=\"dataframe\">\n",
       "  <thead>\n",
       "    <tr style=\"text-align: right;\">\n",
       "      <th></th>\n",
       "      <th>PassengerId</th>\n",
       "      <th>Survived</th>\n",
       "      <th>Pclass</th>\n",
       "      <th>Name</th>\n",
       "      <th>Sex</th>\n",
       "      <th>Age</th>\n",
       "      <th>SibSp</th>\n",
       "      <th>Parch</th>\n",
       "      <th>Ticket</th>\n",
       "      <th>Fare</th>\n",
       "      <th>Cabin</th>\n",
       "      <th>Embarked</th>\n",
       "    </tr>\n",
       "  </thead>\n",
       "  <tbody>\n",
       "    <tr>\n",
       "      <td>0</td>\n",
       "      <td>1</td>\n",
       "      <td>0</td>\n",
       "      <td>3</td>\n",
       "      <td>Braund, Mr. Owen Harris</td>\n",
       "      <td>male</td>\n",
       "      <td>22.0</td>\n",
       "      <td>1</td>\n",
       "      <td>0</td>\n",
       "      <td>A/5 21171</td>\n",
       "      <td>7.2500</td>\n",
       "      <td>NaN</td>\n",
       "      <td>S</td>\n",
       "    </tr>\n",
       "    <tr>\n",
       "      <td>1</td>\n",
       "      <td>2</td>\n",
       "      <td>1</td>\n",
       "      <td>1</td>\n",
       "      <td>Cumings, Mrs. John Bradley (Florence Briggs Th...</td>\n",
       "      <td>female</td>\n",
       "      <td>38.0</td>\n",
       "      <td>1</td>\n",
       "      <td>0</td>\n",
       "      <td>PC 17599</td>\n",
       "      <td>71.2833</td>\n",
       "      <td>C85</td>\n",
       "      <td>C</td>\n",
       "    </tr>\n",
       "  </tbody>\n",
       "</table>\n",
       "</div>"
      ],
      "text/plain": [
       "   PassengerId  Survived  Pclass  \\\n",
       "0            1         0       3   \n",
       "1            2         1       1   \n",
       "\n",
       "                                                Name     Sex   Age  SibSp  \\\n",
       "0                            Braund, Mr. Owen Harris    male  22.0      1   \n",
       "1  Cumings, Mrs. John Bradley (Florence Briggs Th...  female  38.0      1   \n",
       "\n",
       "   Parch     Ticket     Fare Cabin Embarked  \n",
       "0      0  A/5 21171   7.2500   NaN        S  \n",
       "1      0   PC 17599  71.2833   C85        C  "
      ]
     },
     "execution_count": 27,
     "metadata": {},
     "output_type": "execute_result"
    }
   ],
   "source": [
    "train = pd.read_csv('titanic/train.csv', sep=',')\n",
    "train.head(2)"
   ]
  },
  {
   "cell_type": "code",
   "execution_count": 28,
   "metadata": {},
   "outputs": [
    {
     "data": {
      "text/html": [
       "<div>\n",
       "<style scoped>\n",
       "    .dataframe tbody tr th:only-of-type {\n",
       "        vertical-align: middle;\n",
       "    }\n",
       "\n",
       "    .dataframe tbody tr th {\n",
       "        vertical-align: top;\n",
       "    }\n",
       "\n",
       "    .dataframe thead th {\n",
       "        text-align: right;\n",
       "    }\n",
       "</style>\n",
       "<table border=\"1\" class=\"dataframe\">\n",
       "  <thead>\n",
       "    <tr style=\"text-align: right;\">\n",
       "      <th></th>\n",
       "      <th>PassengerId</th>\n",
       "      <th>Pclass</th>\n",
       "      <th>Name</th>\n",
       "      <th>Sex</th>\n",
       "      <th>Age</th>\n",
       "      <th>SibSp</th>\n",
       "      <th>Parch</th>\n",
       "      <th>Ticket</th>\n",
       "      <th>Fare</th>\n",
       "      <th>Cabin</th>\n",
       "      <th>Embarked</th>\n",
       "      <th>Survived</th>\n",
       "    </tr>\n",
       "  </thead>\n",
       "  <tbody>\n",
       "    <tr>\n",
       "      <td>0</td>\n",
       "      <td>892</td>\n",
       "      <td>3</td>\n",
       "      <td>Kelly, Mr. James</td>\n",
       "      <td>male</td>\n",
       "      <td>34.5</td>\n",
       "      <td>0</td>\n",
       "      <td>0</td>\n",
       "      <td>330911</td>\n",
       "      <td>7.8292</td>\n",
       "      <td>NaN</td>\n",
       "      <td>Q</td>\n",
       "      <td>0</td>\n",
       "    </tr>\n",
       "    <tr>\n",
       "      <td>1</td>\n",
       "      <td>893</td>\n",
       "      <td>3</td>\n",
       "      <td>Wilkes, Mrs. James (Ellen Needs)</td>\n",
       "      <td>female</td>\n",
       "      <td>47.0</td>\n",
       "      <td>1</td>\n",
       "      <td>0</td>\n",
       "      <td>363272</td>\n",
       "      <td>7.0000</td>\n",
       "      <td>NaN</td>\n",
       "      <td>S</td>\n",
       "      <td>1</td>\n",
       "    </tr>\n",
       "  </tbody>\n",
       "</table>\n",
       "</div>"
      ],
      "text/plain": [
       "   PassengerId  Pclass                              Name     Sex   Age  SibSp  \\\n",
       "0          892       3                  Kelly, Mr. James    male  34.5      0   \n",
       "1          893       3  Wilkes, Mrs. James (Ellen Needs)  female  47.0      1   \n",
       "\n",
       "   Parch  Ticket    Fare Cabin Embarked  Survived  \n",
       "0      0  330911  7.8292   NaN        Q         0  \n",
       "1      0  363272  7.0000   NaN        S         1  "
      ]
     },
     "execution_count": 28,
     "metadata": {},
     "output_type": "execute_result"
    }
   ],
   "source": [
    "test = pd.read_csv('titanic/test.csv', sep=',')\n",
    "test_targets = pd.read_csv('titanic/gender_submission.csv', sep=',')\n",
    "test = test.assign(Survived = test_targets.Survived)\n",
    "test.head(2)"
   ]
  },
  {
   "cell_type": "code",
   "execution_count": 24,
   "metadata": {},
   "outputs": [
    {
     "name": "stdout",
     "output_type": "stream",
     "text": [
      "<class 'pandas.core.frame.DataFrame'>\n",
      "RangeIndex: 891 entries, 0 to 890\n",
      "Data columns (total 12 columns):\n",
      "PassengerId    891 non-null int64\n",
      "Survived       891 non-null int64\n",
      "Pclass         891 non-null int64\n",
      "Name           891 non-null object\n",
      "Sex            891 non-null object\n",
      "Age            714 non-null float64\n",
      "SibSp          891 non-null int64\n",
      "Parch          891 non-null int64\n",
      "Ticket         891 non-null object\n",
      "Fare           891 non-null float64\n",
      "Cabin          204 non-null object\n",
      "Embarked       889 non-null object\n",
      "dtypes: float64(2), int64(5), object(5)\n",
      "memory usage: 83.7+ KB\n"
     ]
    }
   ],
   "source": [
    "train.info()"
   ]
  },
  {
   "cell_type": "code",
   "execution_count": 29,
   "metadata": {},
   "outputs": [
    {
     "data": {
      "text/plain": [
       "Index(['PassengerId', 'Survived', 'Pclass', 'Name', 'Sex', 'Age', 'SibSp',\n",
       "       'Parch', 'Ticket', 'Fare', 'Cabin', 'Embarked'],\n",
       "      dtype='object')"
      ]
     },
     "execution_count": 29,
     "metadata": {},
     "output_type": "execute_result"
    }
   ],
   "source": [
    "train.columns"
   ]
  },
  {
   "cell_type": "code",
   "execution_count": 25,
   "metadata": {},
   "outputs": [
    {
     "name": "stdout",
     "output_type": "stream",
     "text": [
      "<class 'pandas.core.frame.DataFrame'>\n",
      "RangeIndex: 418 entries, 0 to 417\n",
      "Data columns (total 12 columns):\n",
      "PassengerId    418 non-null int64\n",
      "Pclass         418 non-null int64\n",
      "Name           418 non-null object\n",
      "Sex            418 non-null object\n",
      "Age            332 non-null float64\n",
      "SibSp          418 non-null int64\n",
      "Parch          418 non-null int64\n",
      "Ticket         418 non-null object\n",
      "Fare           417 non-null float64\n",
      "Cabin          91 non-null object\n",
      "Embarked       418 non-null object\n",
      "Survived       418 non-null int64\n",
      "dtypes: float64(2), int64(5), object(5)\n",
      "memory usage: 39.3+ KB\n"
     ]
    }
   ],
   "source": [
    "test.info()"
   ]
  },
  {
   "cell_type": "code",
   "execution_count": 6,
   "metadata": {},
   "outputs": [
    {
     "name": "stdout",
     "output_type": "stream",
     "text": [
      "train shape - (891, 12)\n",
      "test shape - (418, 12)\n"
     ]
    }
   ],
   "source": [
    "print(f'train shape - {train.shape}')\n",
    "print(f'test shape - {test.shape}')"
   ]
  },
  {
   "cell_type": "markdown",
   "metadata": {},
   "source": [
    "## Бейзлайн Титаника "
   ]
  },
  {
   "cell_type": "code",
   "execution_count": 35,
   "metadata": {
    "scrolled": true
   },
   "outputs": [
    {
     "data": {
      "text/plain": [
       "Pipeline(memory=None,\n",
       "         steps=[('imputer',\n",
       "                 SimpleImputer(add_indicator=False, copy=True, fill_value=None,\n",
       "                               missing_values=nan, strategy='mean',\n",
       "                               verbose=0)),\n",
       "                ('scaler',\n",
       "                 StandardScaler(copy=True, with_mean=True, with_std=True)),\n",
       "                ('tree',\n",
       "                 DecisionTreeClassifier(class_weight=None, criterion='entropy',\n",
       "                                        max_depth=5, max_features=None,\n",
       "                                        max_leaf_nodes=None,\n",
       "                                        min_impurity_decrease=0.0,\n",
       "                                        min_impurity_split=None,\n",
       "                                        min_samples_leaf=1, min_samples_split=2,\n",
       "                                        min_weight_fraction_leaf=0.0,\n",
       "                                        presort=False, random_state=None,\n",
       "                                        splitter='best'))],\n",
       "         verbose=False)"
      ]
     },
     "execution_count": 35,
     "metadata": {},
     "output_type": "execute_result"
    }
   ],
   "source": [
    "features = ['Pclass', 'Age', 'SibSp', 'Parch', 'Fare']\n",
    "\n",
    "pipeline = Pipeline(steps = [('imputer', SimpleImputer()),('scaler',StandardScaler()),\n",
    "                             ('tree',DecisionTreeClassifier())])\n",
    "grid = {\n",
    "    'tree__criterion' : ['gini', 'entropy'],\n",
    "    'tree__max_depth' : [2,5],  \n",
    "}\n",
    "gridsearch = GridSearchCV(pipeline, grid, cv = 3)     \n",
    "gridsearch.fit(np.array(train.loc[:,features]), np.array(train.Survived))\n",
    "gridsearch.best_estimator_"
   ]
  },
  {
   "cell_type": "code",
   "execution_count": 10,
   "metadata": {},
   "outputs": [
    {
     "data": {
      "text/plain": [
       "0.7104377104377104"
      ]
     },
     "execution_count": 10,
     "metadata": {},
     "output_type": "execute_result"
    }
   ],
   "source": [
    "gridsearch.best_score_"
   ]
  },
  {
   "cell_type": "code",
   "execution_count": 11,
   "metadata": {},
   "outputs": [
    {
     "data": {
      "text/plain": [
       "0.6746411483253588"
      ]
     },
     "execution_count": 11,
     "metadata": {},
     "output_type": "execute_result"
    }
   ],
   "source": [
    "accuracy_score(y_pred = gridsearch.predict(np.array(test[features])), y_true = test.Survived)"
   ]
  },
  {
   "cell_type": "markdown",
   "metadata": {},
   "source": [
    "## 1. Геометрическая интерпретация критерия Джини \n",
    "\n",
    "**Задание** Построить график кривой Лоренца (https://habr.com/ru/company/ods/blog/350440/ - абзац с машиным обучением) \n",
    "            для дерева решений с разделением по критерию Джини, используя бейзлайн."
   ]
  },
  {
   "cell_type": "markdown",
   "metadata": {},
   "source": [
    "**Пример**"
   ]
  },
  {
   "cell_type": "code",
   "execution_count": 70,
   "metadata": {},
   "outputs": [
    {
     "data": {
      "image/png": "[encoded data removed]",
      "text/plain": [
       "<Figure size 1008x504 with 2 Axes>"
      ]
     },
     "metadata": {
      "needs_background": "light"
     },
     "output_type": "display_data"
    }
   ],
   "source": [
    "from scipy.interpolate import interp1d\n",
    "from scipy.integrate import quad\n",
    "\n",
    "actual = [1, 1, 1, 1, 1, 1, 0, 0, 0, 0, 0, 0, 0, 0, 0]\n",
    "predict = [0.9, 0.3, 0.8, 0.75, 0.65, 0.6, 0.78, 0.7, 0.05, 0.4, 0.4, 0.05, 0.5, 0.1, 0.1]\n",
    "\n",
    "data = zip(actual, predict)\n",
    "sorted_data = sorted(data, key=lambda d: d[1], reverse=True)\n",
    "sorted_actual = [d[0] for d in sorted_data]\n",
    "\n",
    "cumulative_actual = np.cumsum(sorted_actual) / sum(actual)\n",
    "cumulative_index = np.arange(1, len(cumulative_actual)+1) / len(predict)\n",
    "cumulative_actual_perfect = np.cumsum(sorted(actual, reverse=True)) / sum(actual)\n",
    "\n",
    "x_values = [0] + list(cumulative_index)\n",
    "y_values = [0] + list(cumulative_actual)\n",
    "y_values_perfect = [0] + list(cumulative_actual_perfect)\n",
    "\n",
    "f1, f2 = interp1d(x_values, y_values), interp1d(x_values, y_values_perfect)\n",
    "S_pred = quad(f1, 0, 1, points=x_values)[0] - 0.5\n",
    "S_actual = quad(f2, 0, 1, points=x_values)[0] - 0.5\n",
    "\n",
    "fig, ax = plt.subplots(nrows=1,ncols=2, sharey=True, figsize=(14, 7))\n",
    "ax[0].plot(x_values, y_values, lw = 2, color = 'blue', marker='x')\n",
    "ax[0].fill_between(x_values, x_values, y_values, color = 'blue', alpha=0.1)\n",
    "ax[0].text(0.4,0.2,'S = {:0.4f}'.format(S_pred),fontsize = 28)\n",
    "ax[1].plot(x_values, y_values_perfect, lw = 2, color = 'green', marker='x')\n",
    "ax[1].fill_between(x_values, x_values, y_values_perfect, color = 'green', alpha=0.1)\n",
    "ax[1].text(0.4,0.2,'S = {:0.4f}'.format(S_actual),fontsize = 28)\n",
    "\n",
    "for i in range(2):\n",
    "    ax[i].plot([0,1],[0,1],linestyle = '--',lw = 2,color = 'black')\n",
    "    ax[i].set(title='Коэффициент Джини', xlabel='Кумулятивная доля объектов', \n",
    "              ylabel='Кумулятивная доля истинных классов', xlim=(0, 1), ylim=(0, 1))\n",
    "plt.show();"
   ]
  },
  {
   "cell_type": "markdown",
   "metadata": {},
   "source": [
    "## 2. Контест Титаник\n",
    "\n",
    "Побейте безлайн с помощью дерева решений(почерпнуть идеи можно из  \n",
    "https://www.kaggle.com/anaskad/step-by-step-solving-titanic-problem,  \n",
    "но модель в этом задание ограничивается деревом решений), выполните следующие пункты.  \n",
    "Выберите наиболее сильную модель. Напишите отчет о результатах.\n",
    "\n",
    "\n",
    "- Придумайте, как нужно использовать дополнительные признаки.\n",
    "- Примените One-hot-encoding для категориальных признаков.\n",
    "- Заполнить пропуски\n",
    "- Применить кроссвалидацию\n",
    "- отобрать параметры, например с помощью, GridSearchCV"
   ]
  },
  {
   "cell_type": "code",
   "execution_count": 33,
   "metadata": {},
   "outputs": [
    {
     "data": {
      "text/html": [
       "<div>\n",
       "<style scoped>\n",
       "    .dataframe tbody tr th:only-of-type {\n",
       "        vertical-align: middle;\n",
       "    }\n",
       "\n",
       "    .dataframe tbody tr th {\n",
       "        vertical-align: top;\n",
       "    }\n",
       "\n",
       "    .dataframe thead th {\n",
       "        text-align: right;\n",
       "    }\n",
       "</style>\n",
       "<table border=\"1\" class=\"dataframe\">\n",
       "  <thead>\n",
       "    <tr style=\"text-align: right;\">\n",
       "      <th></th>\n",
       "      <th>Age</th>\n",
       "      <th>SibSp</th>\n",
       "      <th>Parch</th>\n",
       "      <th>Fare</th>\n",
       "      <th>isMale</th>\n",
       "      <th>hasCabin</th>\n",
       "      <th>Pclass_1</th>\n",
       "      <th>Pclass_2</th>\n",
       "      <th>Pclass_3</th>\n",
       "      <th>Embarked_C</th>\n",
       "      <th>Embarked_Q</th>\n",
       "      <th>Embarked_S</th>\n",
       "    </tr>\n",
       "  </thead>\n",
       "  <tbody>\n",
       "    <tr>\n",
       "      <td>0</td>\n",
       "      <td>22</td>\n",
       "      <td>1</td>\n",
       "      <td>0</td>\n",
       "      <td>7.2500</td>\n",
       "      <td>1</td>\n",
       "      <td>0</td>\n",
       "      <td>0</td>\n",
       "      <td>0</td>\n",
       "      <td>1</td>\n",
       "      <td>0</td>\n",
       "      <td>0</td>\n",
       "      <td>1</td>\n",
       "    </tr>\n",
       "    <tr>\n",
       "      <td>1</td>\n",
       "      <td>38</td>\n",
       "      <td>1</td>\n",
       "      <td>0</td>\n",
       "      <td>71.2833</td>\n",
       "      <td>0</td>\n",
       "      <td>1</td>\n",
       "      <td>1</td>\n",
       "      <td>0</td>\n",
       "      <td>0</td>\n",
       "      <td>1</td>\n",
       "      <td>0</td>\n",
       "      <td>0</td>\n",
       "    </tr>\n",
       "    <tr>\n",
       "      <td>2</td>\n",
       "      <td>26</td>\n",
       "      <td>0</td>\n",
       "      <td>0</td>\n",
       "      <td>7.9250</td>\n",
       "      <td>0</td>\n",
       "      <td>0</td>\n",
       "      <td>0</td>\n",
       "      <td>0</td>\n",
       "      <td>1</td>\n",
       "      <td>0</td>\n",
       "      <td>0</td>\n",
       "      <td>1</td>\n",
       "    </tr>\n",
       "    <tr>\n",
       "      <td>3</td>\n",
       "      <td>35</td>\n",
       "      <td>1</td>\n",
       "      <td>0</td>\n",
       "      <td>53.1000</td>\n",
       "      <td>0</td>\n",
       "      <td>1</td>\n",
       "      <td>1</td>\n",
       "      <td>0</td>\n",
       "      <td>0</td>\n",
       "      <td>0</td>\n",
       "      <td>0</td>\n",
       "      <td>1</td>\n",
       "    </tr>\n",
       "    <tr>\n",
       "      <td>4</td>\n",
       "      <td>35</td>\n",
       "      <td>0</td>\n",
       "      <td>0</td>\n",
       "      <td>8.0500</td>\n",
       "      <td>1</td>\n",
       "      <td>0</td>\n",
       "      <td>0</td>\n",
       "      <td>0</td>\n",
       "      <td>1</td>\n",
       "      <td>0</td>\n",
       "      <td>0</td>\n",
       "      <td>1</td>\n",
       "    </tr>\n",
       "  </tbody>\n",
       "</table>\n",
       "</div>"
      ],
      "text/plain": [
       "   Age  SibSp  Parch     Fare  isMale  hasCabin  Pclass_1  Pclass_2  Pclass_3  \\\n",
       "0   22      1      0   7.2500       1         0         0         0         1   \n",
       "1   38      1      0  71.2833       0         1         1         0         0   \n",
       "2   26      0      0   7.9250       0         0         0         0         1   \n",
       "3   35      1      0  53.1000       0         1         1         0         0   \n",
       "4   35      0      0   8.0500       1         0         0         0         1   \n",
       "\n",
       "   Embarked_C  Embarked_Q  Embarked_S  \n",
       "0           0           0           1  \n",
       "1           1           0           0  \n",
       "2           0           0           1  \n",
       "3           0           0           1  \n",
       "4           0           0           1  "
      ]
     },
     "execution_count": 33,
     "metadata": {},
     "output_type": "execute_result"
    }
   ],
   "source": [
    "#Copy\n",
    "X_train=train[['PassengerId', 'Pclass', 'Name', 'Sex', 'Age', 'SibSp','Parch', 'Ticket', 'Fare', 'Cabin', 'Embarked']]\n",
    "y_train=train['Survived']\n",
    "X_test=test[['PassengerId', 'Pclass', 'Name', 'Sex', 'Age', 'SibSp','Parch', 'Ticket', 'Fare', 'Cabin', 'Embarked']]\n",
    "#Age\n",
    "X_train_age = np.random.randint(X_train[\"Age\"].mean() - X_train[\"Age\"].std(), \n",
    "                                X_train[\"Age\"].mean() + X_train[\"Age\"].std(),\n",
    "                                size = X_train[\"Age\"].isnull().sum())\n",
    "X_test_age = np.random.randint(X_test[\"Age\"].mean() - X_test[\"Age\"].std(), \n",
    "                               X_test[\"Age\"].mean() + X_test[\"Age\"].std(),\n",
    "                               size = X_test[\"Age\"].isnull().sum())\n",
    "X_train[\"Age\"][np.isnan(X_train[\"Age\"])] = X_train_age\n",
    "X_test[\"Age\"][np.isnan(X_test[\"Age\"])] = X_test_age\n",
    "X_train['Age'] = X_train['Age'].astype(int)\n",
    "X_test['Age'] = X_test['Age'].astype(int)\n",
    "\n",
    "# Embarked \n",
    "X_train[\"Embarked\"].fillna('S', inplace=True)\n",
    "X_test[\"Embarked\"].fillna('S', inplace=True)\n",
    "\n",
    "# Fare (всего одно значение, но все же)\n",
    "X_test[\"Fare\"].fillna(X_test[\"Fare\"].median(), inplace=True)\n",
    "\n",
    "#new features\n",
    "X_train['isMale'] = X_train.Sex.replace({'male': 1, 'female':0})\n",
    "X_train['hasCabin']=(~X_train['Cabin'].isnull()).astype(int)\n",
    "X_train=pd.get_dummies(X_train, columns=['Pclass', 'Embarked'])\n",
    "\n",
    "X_test['isMale'] = X_test.Sex.replace({'male': 1, 'female':0})\n",
    "X_test['hasCabin']=(~X_test['Cabin'].isnull()).astype(int)\n",
    "X_test=pd.get_dummies(X_test, columns=['Pclass', 'Embarked'])\n",
    "\n",
    "\n",
    "X_train.drop(['PassengerId','Name','Sex','Ticket','Cabin'],axis=1,inplace=True)\n",
    "X_test.drop(['PassengerId','Name','Sex','Ticket','Cabin'],axis=1,inplace=True)\n",
    "\n",
    "X_train.head()"
   ]
  },
  {
   "cell_type": "code",
   "execution_count": 34,
   "metadata": {},
   "outputs": [
    {
     "data": {
      "text/html": [
       "<div>\n",
       "<style scoped>\n",
       "    .dataframe tbody tr th:only-of-type {\n",
       "        vertical-align: middle;\n",
       "    }\n",
       "\n",
       "    .dataframe tbody tr th {\n",
       "        vertical-align: top;\n",
       "    }\n",
       "\n",
       "    .dataframe thead th {\n",
       "        text-align: right;\n",
       "    }\n",
       "</style>\n",
       "<table border=\"1\" class=\"dataframe\">\n",
       "  <thead>\n",
       "    <tr style=\"text-align: right;\">\n",
       "      <th></th>\n",
       "      <th>Age</th>\n",
       "      <th>SibSp</th>\n",
       "      <th>Parch</th>\n",
       "      <th>Fare</th>\n",
       "      <th>isMale</th>\n",
       "      <th>hasCabin</th>\n",
       "      <th>Pclass_1</th>\n",
       "      <th>Pclass_2</th>\n",
       "      <th>Pclass_3</th>\n",
       "      <th>Embarked_C</th>\n",
       "      <th>Embarked_Q</th>\n",
       "      <th>Embarked_S</th>\n",
       "    </tr>\n",
       "  </thead>\n",
       "  <tbody>\n",
       "    <tr>\n",
       "      <td>0</td>\n",
       "      <td>34</td>\n",
       "      <td>0</td>\n",
       "      <td>0</td>\n",
       "      <td>7.8292</td>\n",
       "      <td>1</td>\n",
       "      <td>0</td>\n",
       "      <td>0</td>\n",
       "      <td>0</td>\n",
       "      <td>1</td>\n",
       "      <td>0</td>\n",
       "      <td>1</td>\n",
       "      <td>0</td>\n",
       "    </tr>\n",
       "    <tr>\n",
       "      <td>1</td>\n",
       "      <td>47</td>\n",
       "      <td>1</td>\n",
       "      <td>0</td>\n",
       "      <td>7.0000</td>\n",
       "      <td>0</td>\n",
       "      <td>0</td>\n",
       "      <td>0</td>\n",
       "      <td>0</td>\n",
       "      <td>1</td>\n",
       "      <td>0</td>\n",
       "      <td>0</td>\n",
       "      <td>1</td>\n",
       "    </tr>\n",
       "    <tr>\n",
       "      <td>2</td>\n",
       "      <td>62</td>\n",
       "      <td>0</td>\n",
       "      <td>0</td>\n",
       "      <td>9.6875</td>\n",
       "      <td>1</td>\n",
       "      <td>0</td>\n",
       "      <td>0</td>\n",
       "      <td>1</td>\n",
       "      <td>0</td>\n",
       "      <td>0</td>\n",
       "      <td>1</td>\n",
       "      <td>0</td>\n",
       "    </tr>\n",
       "    <tr>\n",
       "      <td>3</td>\n",
       "      <td>27</td>\n",
       "      <td>0</td>\n",
       "      <td>0</td>\n",
       "      <td>8.6625</td>\n",
       "      <td>1</td>\n",
       "      <td>0</td>\n",
       "      <td>0</td>\n",
       "      <td>0</td>\n",
       "      <td>1</td>\n",
       "      <td>0</td>\n",
       "      <td>0</td>\n",
       "      <td>1</td>\n",
       "    </tr>\n",
       "    <tr>\n",
       "      <td>4</td>\n",
       "      <td>22</td>\n",
       "      <td>1</td>\n",
       "      <td>1</td>\n",
       "      <td>12.2875</td>\n",
       "      <td>0</td>\n",
       "      <td>0</td>\n",
       "      <td>0</td>\n",
       "      <td>0</td>\n",
       "      <td>1</td>\n",
       "      <td>0</td>\n",
       "      <td>0</td>\n",
       "      <td>1</td>\n",
       "    </tr>\n",
       "  </tbody>\n",
       "</table>\n",
       "</div>"
      ],
      "text/plain": [
       "   Age  SibSp  Parch     Fare  isMale  hasCabin  Pclass_1  Pclass_2  Pclass_3  \\\n",
       "0   34      0      0   7.8292       1         0         0         0         1   \n",
       "1   47      1      0   7.0000       0         0         0         0         1   \n",
       "2   62      0      0   9.6875       1         0         0         1         0   \n",
       "3   27      0      0   8.6625       1         0         0         0         1   \n",
       "4   22      1      1  12.2875       0         0         0         0         1   \n",
       "\n",
       "   Embarked_C  Embarked_Q  Embarked_S  \n",
       "0           0           1           0  \n",
       "1           0           0           1  \n",
       "2           0           1           0  \n",
       "3           0           0           1  \n",
       "4           0           0           1  "
      ]
     },
     "execution_count": 34,
     "metadata": {},
     "output_type": "execute_result"
    }
   ],
   "source": [
    "X_test.head()"
   ]
  },
  {
   "cell_type": "code",
   "execution_count": 54,
   "metadata": {},
   "outputs": [
    {
     "data": {
      "text/plain": [
       "Pipeline(memory=None,\n",
       "         steps=[('scaler',\n",
       "                 StandardScaler(copy=True, with_mean=True, with_std=True)),\n",
       "                ('tree',\n",
       "                 DecisionTreeClassifier(class_weight=None, criterion='entropy',\n",
       "                                        max_depth=9, max_features=10,\n",
       "                                        max_leaf_nodes=None,\n",
       "                                        min_impurity_decrease=0.0,\n",
       "                                        min_impurity_split=None,\n",
       "                                        min_samples_leaf=1, min_samples_split=2,\n",
       "                                        min_weight_fraction_leaf=0.0,\n",
       "                                        presort=False, random_state=42,\n",
       "                                        splitter='best'))],\n",
       "         verbose=False)"
      ]
     },
     "execution_count": 54,
     "metadata": {},
     "output_type": "execute_result"
    }
   ],
   "source": [
    "pipeline = Pipeline(steps = [('scaler',StandardScaler()),('tree',DecisionTreeClassifier(random_state=42))])\n",
    "grid = {'tree__criterion' : ['gini', 'entropy'],'tree__max_depth' : range(1,10),'tree__max_features':range(2,12)}\n",
    "gridsearch = GridSearchCV(pipeline, grid, cv = 5)     \n",
    "gridsearch.fit(X_train,y_train)\n",
    "gridsearch.best_estimator_"
   ]
  },
  {
   "cell_type": "code",
   "execution_count": 55,
   "metadata": {},
   "outputs": [
    {
     "data": {
      "text/plain": [
       "0.8204264870931538"
      ]
     },
     "execution_count": 55,
     "metadata": {},
     "output_type": "execute_result"
    }
   ],
   "source": [
    "gridsearch.best_score_"
   ]
  },
  {
   "cell_type": "code",
   "execution_count": 56,
   "metadata": {},
   "outputs": [
    {
     "data": {
      "text/html": [
       "<div>\n",
       "<style scoped>\n",
       "    .dataframe tbody tr th:only-of-type {\n",
       "        vertical-align: middle;\n",
       "    }\n",
       "\n",
       "    .dataframe tbody tr th {\n",
       "        vertical-align: top;\n",
       "    }\n",
       "\n",
       "    .dataframe thead th {\n",
       "        text-align: right;\n",
       "    }\n",
       "</style>\n",
       "<table border=\"1\" class=\"dataframe\">\n",
       "  <thead>\n",
       "    <tr style=\"text-align: right;\">\n",
       "      <th></th>\n",
       "      <th>mean_fit_time</th>\n",
       "      <th>std_fit_time</th>\n",
       "      <th>mean_score_time</th>\n",
       "      <th>std_score_time</th>\n",
       "      <th>param_tree__criterion</th>\n",
       "      <th>param_tree__max_depth</th>\n",
       "      <th>param_tree__max_features</th>\n",
       "      <th>params</th>\n",
       "      <th>split0_test_score</th>\n",
       "      <th>split1_test_score</th>\n",
       "      <th>split2_test_score</th>\n",
       "      <th>split3_test_score</th>\n",
       "      <th>split4_test_score</th>\n",
       "      <th>mean_test_score</th>\n",
       "      <th>std_test_score</th>\n",
       "      <th>rank_test_score</th>\n",
       "    </tr>\n",
       "  </thead>\n",
       "  <tbody>\n",
       "    <tr>\n",
       "      <td>178</td>\n",
       "      <td>0.004686</td>\n",
       "      <td>0.000081</td>\n",
       "      <td>0.001217</td>\n",
       "      <td>0.000024</td>\n",
       "      <td>entropy</td>\n",
       "      <td>9</td>\n",
       "      <td>10</td>\n",
       "      <td>{'tree__criterion': 'entropy', 'tree__max_dept...</td>\n",
       "      <td>0.810056</td>\n",
       "      <td>0.782123</td>\n",
       "      <td>0.842697</td>\n",
       "      <td>0.808989</td>\n",
       "      <td>0.858757</td>\n",
       "      <td>0.820426</td>\n",
       "      <td>0.027082</td>\n",
       "      <td>1</td>\n",
       "    </tr>\n",
       "    <tr>\n",
       "      <td>174</td>\n",
       "      <td>0.004623</td>\n",
       "      <td>0.000265</td>\n",
       "      <td>0.001312</td>\n",
       "      <td>0.000106</td>\n",
       "      <td>entropy</td>\n",
       "      <td>9</td>\n",
       "      <td>6</td>\n",
       "      <td>{'tree__criterion': 'entropy', 'tree__max_dept...</td>\n",
       "      <td>0.787709</td>\n",
       "      <td>0.804469</td>\n",
       "      <td>0.837079</td>\n",
       "      <td>0.797753</td>\n",
       "      <td>0.864407</td>\n",
       "      <td>0.818182</td>\n",
       "      <td>0.028346</td>\n",
       "      <td>2</td>\n",
       "    </tr>\n",
       "    <tr>\n",
       "      <td>131</td>\n",
       "      <td>0.003970</td>\n",
       "      <td>0.000091</td>\n",
       "      <td>0.001226</td>\n",
       "      <td>0.000046</td>\n",
       "      <td>entropy</td>\n",
       "      <td>5</td>\n",
       "      <td>3</td>\n",
       "      <td>{'tree__criterion': 'entropy', 'tree__max_dept...</td>\n",
       "      <td>0.798883</td>\n",
       "      <td>0.821229</td>\n",
       "      <td>0.831461</td>\n",
       "      <td>0.786517</td>\n",
       "      <td>0.841808</td>\n",
       "      <td>0.815937</td>\n",
       "      <td>0.020447</td>\n",
       "      <td>3</td>\n",
       "    </tr>\n",
       "    <tr>\n",
       "      <td>84</td>\n",
       "      <td>0.004376</td>\n",
       "      <td>0.000208</td>\n",
       "      <td>0.001321</td>\n",
       "      <td>0.000087</td>\n",
       "      <td>gini</td>\n",
       "      <td>9</td>\n",
       "      <td>6</td>\n",
       "      <td>{'tree__criterion': 'gini', 'tree__max_depth':...</td>\n",
       "      <td>0.765363</td>\n",
       "      <td>0.798883</td>\n",
       "      <td>0.853933</td>\n",
       "      <td>0.808989</td>\n",
       "      <td>0.853107</td>\n",
       "      <td>0.815937</td>\n",
       "      <td>0.033835</td>\n",
       "      <td>3</td>\n",
       "    </tr>\n",
       "    <tr>\n",
       "      <td>77</td>\n",
       "      <td>0.004386</td>\n",
       "      <td>0.000116</td>\n",
       "      <td>0.001220</td>\n",
       "      <td>0.000030</td>\n",
       "      <td>gini</td>\n",
       "      <td>8</td>\n",
       "      <td>9</td>\n",
       "      <td>{'tree__criterion': 'gini', 'tree__max_depth':...</td>\n",
       "      <td>0.826816</td>\n",
       "      <td>0.776536</td>\n",
       "      <td>0.808989</td>\n",
       "      <td>0.808989</td>\n",
       "      <td>0.847458</td>\n",
       "      <td>0.813692</td>\n",
       "      <td>0.023394</td>\n",
       "      <td>5</td>\n",
       "    </tr>\n",
       "  </tbody>\n",
       "</table>\n",
       "</div>"
      ],
      "text/plain": [
       "     mean_fit_time  std_fit_time  mean_score_time  std_score_time  \\\n",
       "178       0.004686      0.000081         0.001217        0.000024   \n",
       "174       0.004623      0.000265         0.001312        0.000106   \n",
       "131       0.003970      0.000091         0.001226        0.000046   \n",
       "84        0.004376      0.000208         0.001321        0.000087   \n",
       "77        0.004386      0.000116         0.001220        0.000030   \n",
       "\n",
       "    param_tree__criterion param_tree__max_depth param_tree__max_features  \\\n",
       "178               entropy                     9                       10   \n",
       "174               entropy                     9                        6   \n",
       "131               entropy                     5                        3   \n",
       "84                   gini                     9                        6   \n",
       "77                   gini                     8                        9   \n",
       "\n",
       "                                                params  split0_test_score  \\\n",
       "178  {'tree__criterion': 'entropy', 'tree__max_dept...           0.810056   \n",
       "174  {'tree__criterion': 'entropy', 'tree__max_dept...           0.787709   \n",
       "131  {'tree__criterion': 'entropy', 'tree__max_dept...           0.798883   \n",
       "84   {'tree__criterion': 'gini', 'tree__max_depth':...           0.765363   \n",
       "77   {'tree__criterion': 'gini', 'tree__max_depth':...           0.826816   \n",
       "\n",
       "     split1_test_score  split2_test_score  split3_test_score  \\\n",
       "178           0.782123           0.842697           0.808989   \n",
       "174           0.804469           0.837079           0.797753   \n",
       "131           0.821229           0.831461           0.786517   \n",
       "84            0.798883           0.853933           0.808989   \n",
       "77            0.776536           0.808989           0.808989   \n",
       "\n",
       "     split4_test_score  mean_test_score  std_test_score  rank_test_score  \n",
       "178           0.858757         0.820426        0.027082                1  \n",
       "174           0.864407         0.818182        0.028346                2  \n",
       "131           0.841808         0.815937        0.020447                3  \n",
       "84            0.853107         0.815937        0.033835                3  \n",
       "77            0.847458         0.813692        0.023394                5  "
      ]
     },
     "execution_count": 56,
     "metadata": {},
     "output_type": "execute_result"
    }
   ],
   "source": [
    "results = pd.DataFrame(gridsearch.cv_results_)\n",
    "results.sort_values('mean_test_score',ascending=False).head(5)"
   ]
  },
  {
   "cell_type": "markdown",
   "metadata": {},
   "source": [
    "В целом, в сравнении с моделями SVM, LogisticRegression (https://www.kaggle.com/anaskad/step-by-step-solving-titanic-problem) одиночное дерево справляет с той же score. Лучше себя показывает RandomForest. <br>\n",
    "По сравнению с исследованием по ссылке выше, добавление дополнительных фич, таких как число членов семьи, не сильно улучшает качество моделей.<br>\n",
    "Так как данные достаточно разнородные одиночное дерево справляется хуже, чем могли бы случайный лес и ансамбли моделей."
   ]
  },
  {
   "cell_type": "markdown",
   "metadata": {},
   "source": [
    "## 3. Кривая Лоренца\n",
    "\n",
    "Найдите лучшую модель с использованием Джини и постройте для нее кривую Лоренца,  \n",
    "сравните с кривой для бейзлайновой модели"
   ]
  },
  {
   "cell_type": "code",
   "execution_count": 57,
   "metadata": {},
   "outputs": [],
   "source": [
    "treeBL = DecisionTreeClassifier(class_weight=None, criterion='entropy',\n",
    "                                        max_depth=5, max_features=None,\n",
    "                                        max_leaf_nodes=None,\n",
    "                                        min_impurity_decrease=0.0,\n",
    "                                        min_impurity_split=None,\n",
    "                                        min_samples_leaf=1, min_samples_split=2,\n",
    "                                        min_weight_fraction_leaf=0.0,\n",
    "                                        presort=False, random_state=None,\n",
    "                                        splitter='best')     \n",
    "treeBL.fit(X_train,y_train)\n",
    "predictBL=treeBL.predict_proba(X_train)"
   ]
  },
  {
   "cell_type": "code",
   "execution_count": 79,
   "metadata": {},
   "outputs": [
    {
     "data": {
      "image/png": "[encoded data removed]",
      "text/plain": [
       "<Figure size 1008x504 with 2 Axes>"
      ]
     },
     "metadata": {
      "needs_background": "light"
     },
     "output_type": "display_data"
    }
   ],
   "source": [
    "actual = y_train\n",
    "predict = predictBL.T[1]\n",
    "\n",
    "random.seed(1)\n",
    "\n",
    "data = zip(actual, predict)\n",
    "sorted_data = sorted(data, key=lambda d: d[1], reverse=True)\n",
    "sorted_actual = [d[0] for d in sorted_data]\n",
    "\n",
    "cumulative_actual = np.cumsum(sorted_actual) / sum(actual)\n",
    "cumulative_index = np.arange(1, len(cumulative_actual)+1) / len(predict)\n",
    "cumulative_actual_perfect = np.cumsum(sorted(actual, reverse=True)) / sum(actual)\n",
    "\n",
    "x_values = [0] + list(cumulative_index)\n",
    "y_values = [0] + list(cumulative_actual)\n",
    "y_values_perfect = [0] + list(cumulative_actual_perfect)\n",
    "\n",
    "f1, f2 = interp1d(x_values, y_values), interp1d(x_values, y_values_perfect)\n",
    "S_pred = quad(f1, 0, 1, points=random.choices(x_values,k=50))[0] - 0.5\n",
    "S_actual = quad(f2, 0, 1, points=random.choices(x_values,k=50))[0] - 0.5\n",
    "\n",
    "fig, ax = plt.subplots(nrows=1,ncols=2, sharey=True, figsize=(14, 7))\n",
    "ax[0].plot(x_values, y_values, lw = 2, color = 'blue', marker='x')\n",
    "ax[0].fill_between(x_values, x_values, y_values, color = 'blue', alpha=0.1)\n",
    "ax[0].text(0.4,0.2,'S = {:0.4f}'.format(S_pred),fontsize = 28)\n",
    "ax[1].plot(x_values, y_values_perfect, lw = 2, color = 'green', marker='x')\n",
    "ax[1].fill_between(x_values, x_values, y_values_perfect, color = 'green', alpha=0.1)\n",
    "ax[1].text(0.4,0.2,'S = {:0.4f}'.format(S_actual),fontsize = 28)\n",
    "\n",
    "for i in range(2):\n",
    "    ax[i].plot([0,1],[0,1],linestyle = '--',lw = 2,color = 'black')\n",
    "    ax[i].set(title='Коэффициент Джини в Baseline', xlabel='Кумулятивная доля объектов', \n",
    "              ylabel='Кумулятивная доля истинных классов', xlim=(0, 1), ylim=(0, 1))\n",
    "plt.show();"
   ]
  },
  {
   "cell_type": "code",
   "execution_count": 80,
   "metadata": {},
   "outputs": [
    {
     "data": {
      "text/plain": [
       "Pipeline(memory=None,\n",
       "         steps=[('scaler',\n",
       "                 StandardScaler(copy=True, with_mean=True, with_std=True)),\n",
       "                ('tree',\n",
       "                 DecisionTreeClassifier(class_weight=None, criterion='gini',\n",
       "                                        max_depth=9, max_features=6,\n",
       "                                        max_leaf_nodes=None,\n",
       "                                        min_impurity_decrease=0.0,\n",
       "                                        min_impurity_split=None,\n",
       "                                        min_samples_leaf=1, min_samples_split=2,\n",
       "                                        min_weight_fraction_leaf=0.0,\n",
       "                                        presort=False, random_state=42,\n",
       "                                        splitter='best'))],\n",
       "         verbose=False)"
      ]
     },
     "execution_count": 80,
     "metadata": {},
     "output_type": "execute_result"
    }
   ],
   "source": [
    "pipeline = Pipeline(steps = [('scaler',StandardScaler()),('tree',DecisionTreeClassifier(random_state=42))])\n",
    "grid = {'tree__criterion' : ['gini'],'tree__max_depth' : range(1,10),'tree__max_features':range(2,12)}\n",
    "gridsearch = GridSearchCV(pipeline, grid, cv = 5)     \n",
    "gridsearch.fit(X_train,y_train)\n",
    "gridsearch.best_estimator_"
   ]
  },
  {
   "cell_type": "code",
   "execution_count": 82,
   "metadata": {},
   "outputs": [],
   "source": [
    "treeTM = DecisionTreeClassifier(class_weight=None, criterion='gini',\n",
    "                                        max_depth=9, max_features=6,\n",
    "                                        max_leaf_nodes=None,\n",
    "                                        min_impurity_decrease=0.0,\n",
    "                                        min_impurity_split=None,\n",
    "                                        min_samples_leaf=1, min_samples_split=2,\n",
    "                                        min_weight_fraction_leaf=0.0,\n",
    "                                        presort=False, random_state=42,\n",
    "                                        splitter='best')     \n",
    "treeTM.fit(X_train,y_train)\n",
    "predictTM=treeTM.predict_proba(X_train)"
   ]
  },
  {
   "cell_type": "code",
   "execution_count": 84,
   "metadata": {},
   "outputs": [
    {
     "data": {
      "image/png": "[encoded data removed]",
      "text/plain": [
       "<Figure size 1008x504 with 2 Axes>"
      ]
     },
     "metadata": {
      "needs_background": "light"
     },
     "output_type": "display_data"
    }
   ],
   "source": [
    "actual = y_train\n",
    "predict = predictTM.T[1]\n",
    "\n",
    "random.seed(1)\n",
    "\n",
    "data = zip(actual, predict)\n",
    "sorted_data = sorted(data, key=lambda d: d[1], reverse=True)\n",
    "sorted_actual = [d[0] for d in sorted_data]\n",
    "\n",
    "cumulative_actual = np.cumsum(sorted_actual) / sum(actual)\n",
    "cumulative_index = np.arange(1, len(cumulative_actual)+1) / len(predict)\n",
    "cumulative_actual_perfect = np.cumsum(sorted(actual, reverse=True)) / sum(actual)\n",
    "\n",
    "x_values = [0] + list(cumulative_index)\n",
    "y_values = [0] + list(cumulative_actual)\n",
    "y_values_perfect = [0] + list(cumulative_actual_perfect)\n",
    "\n",
    "f1, f2 = interp1d(x_values, y_values), interp1d(x_values, y_values_perfect)\n",
    "S_pred = quad(f1, 0, 1, points=random.choices(x_values,k=50))[0] - 0.5\n",
    "S_actual = quad(f2, 0, 1, points=random.choices(x_values,k=50))[0] - 0.5\n",
    "\n",
    "fig, ax = plt.subplots(nrows=1,ncols=2, sharey=True, figsize=(14, 7))\n",
    "ax[0].plot(x_values, y_values, lw = 2, color = 'blue', marker='x')\n",
    "ax[0].fill_between(x_values, x_values, y_values, color = 'blue', alpha=0.1)\n",
    "ax[0].text(0.4,0.2,'S = {:0.4f}'.format(S_pred),fontsize = 28)\n",
    "ax[1].plot(x_values, y_values_perfect, lw = 2, color = 'green', marker='x')\n",
    "ax[1].fill_between(x_values, x_values, y_values_perfect, color = 'green', alpha=0.1)\n",
    "ax[1].text(0.4,0.2,'S = {:0.4f}'.format(S_actual),fontsize = 28)\n",
    "\n",
    "for i in range(2):\n",
    "    ax[i].plot([0,1],[0,1],linestyle = '--',lw = 2,color = 'black')\n",
    "    ax[i].set(title='Коэффициент Джини в модели дерева', xlabel='Кумулятивная доля объектов', \n",
    "              ylabel='Кумулятивная доля истинных классов', xlim=(0, 1), ylim=(0, 1))\n",
    "plt.show();"
   ]
  },
  {
   "cell_type": "markdown",
   "metadata": {},
   "source": [
    "Коэффициент Джинни для построенной модели (0,2830) больше, чем в Baseline (0,2499)."
   ]
  }
 ],
 "metadata": {
  "kernelspec": {
   "display_name": "Python 3",
   "language": "python",
   "name": "python3"
  },
  "language_info": {
   "codemirror_mode": {
    "name": "ipython",
    "version": 3
   },
   "file_extension": ".py",
   "mimetype": "text/x-python",
   "name": "python",
   "nbconvert_exporter": "python",
   "pygments_lexer": "ipython3",
   "version": "3.7.4"
  }
 },
 "nbformat": 4,
 "nbformat_minor": 2
}
